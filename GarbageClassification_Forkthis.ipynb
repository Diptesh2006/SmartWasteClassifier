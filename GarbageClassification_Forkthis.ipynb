{
  "cells": [
    {
      "cell_type": "code",
      "execution_count": null,
      "metadata": {
        "id": "dwpAk5eO_2L6"
      },
      "outputs": [],
      "source": [
        "import os, glob, shutil, zipfile, random, math\n",
        "from collections import Counter\n",
        "\n",
        "import numpy as np\n",
        "import matplotlib.pyplot as plt\n",
        "import seaborn as sns\n",
        "\n",
        "import tensorflow as tf\n",
        "from tensorflow import keras\n",
        "from tensorflow.keras import layers\n",
        "\n",
        "from sklearn.model_selection import train_test_split\n",
        "from sklearn.metrics import classification_report, confusion_matrix\n",
        "\n",
        "from google.colab import files\n"
      ]
    },
    {
      "cell_type": "code",
      "execution_count": null,
      "metadata": {
        "colab": {
          "base_uri": "https://localhost:8080/",
          "height": 108
        },
        "id": "rztUkOnyBD7A",
        "outputId": "3c292f03-77ad-4350-8bbb-bf46a36651e1"
      },
      "outputs": [
        {
          "output_type": "stream",
          "name": "stdout",
          "text": [
            " upload your dataset .zip file \n"
          ]
        },
        {
          "output_type": "display_data",
          "data": {
            "text/plain": [
              "<IPython.core.display.HTML object>"
            ],
            "text/html": [
              "\n",
              "     <input type=\"file\" id=\"files-c22a8bbd-41a1-48b9-8821-9b2fad470a89\" name=\"files[]\" multiple disabled\n",
              "        style=\"border:none\" />\n",
              "     <output id=\"result-c22a8bbd-41a1-48b9-8821-9b2fad470a89\">\n",
              "      Upload widget is only available when the cell has been executed in the\n",
              "      current browser session. Please rerun this cell to enable.\n",
              "      </output>\n",
              "      <script>// Copyright 2017 Google LLC\n",
              "//\n",
              "// Licensed under the Apache License, Version 2.0 (the \"License\");\n",
              "// you may not use this file except in compliance with the License.\n",
              "// You may obtain a copy of the License at\n",
              "//\n",
              "//      http://www.apache.org/licenses/LICENSE-2.0\n",
              "//\n",
              "// Unless required by applicable law or agreed to in writing, software\n",
              "// distributed under the License is distributed on an \"AS IS\" BASIS,\n",
              "// WITHOUT WARRANTIES OR CONDITIONS OF ANY KIND, either express or implied.\n",
              "// See the License for the specific language governing permissions and\n",
              "// limitations under the License.\n",
              "\n",
              "/**\n",
              " * @fileoverview Helpers for google.colab Python module.\n",
              " */\n",
              "(function(scope) {\n",
              "function span(text, styleAttributes = {}) {\n",
              "  const element = document.createElement('span');\n",
              "  element.textContent = text;\n",
              "  for (const key of Object.keys(styleAttributes)) {\n",
              "    element.style[key] = styleAttributes[key];\n",
              "  }\n",
              "  return element;\n",
              "}\n",
              "\n",
              "// Max number of bytes which will be uploaded at a time.\n",
              "const MAX_PAYLOAD_SIZE = 100 * 1024;\n",
              "\n",
              "function _uploadFiles(inputId, outputId) {\n",
              "  const steps = uploadFilesStep(inputId, outputId);\n",
              "  const outputElement = document.getElementById(outputId);\n",
              "  // Cache steps on the outputElement to make it available for the next call\n",
              "  // to uploadFilesContinue from Python.\n",
              "  outputElement.steps = steps;\n",
              "\n",
              "  return _uploadFilesContinue(outputId);\n",
              "}\n",
              "\n",
              "// This is roughly an async generator (not supported in the browser yet),\n",
              "// where there are multiple asynchronous steps and the Python side is going\n",
              "// to poll for completion of each step.\n",
              "// This uses a Promise to block the python side on completion of each step,\n",
              "// then passes the result of the previous step as the input to the next step.\n",
              "function _uploadFilesContinue(outputId) {\n",
              "  const outputElement = document.getElementById(outputId);\n",
              "  const steps = outputElement.steps;\n",
              "\n",
              "  const next = steps.next(outputElement.lastPromiseValue);\n",
              "  return Promise.resolve(next.value.promise).then((value) => {\n",
              "    // Cache the last promise value to make it available to the next\n",
              "    // step of the generator.\n",
              "    outputElement.lastPromiseValue = value;\n",
              "    return next.value.response;\n",
              "  });\n",
              "}\n",
              "\n",
              "/**\n",
              " * Generator function which is called between each async step of the upload\n",
              " * process.\n",
              " * @param {string} inputId Element ID of the input file picker element.\n",
              " * @param {string} outputId Element ID of the output display.\n",
              " * @return {!Iterable<!Object>} Iterable of next steps.\n",
              " */\n",
              "function* uploadFilesStep(inputId, outputId) {\n",
              "  const inputElement = document.getElementById(inputId);\n",
              "  inputElement.disabled = false;\n",
              "\n",
              "  const outputElement = document.getElementById(outputId);\n",
              "  outputElement.innerHTML = '';\n",
              "\n",
              "  const pickedPromise = new Promise((resolve) => {\n",
              "    inputElement.addEventListener('change', (e) => {\n",
              "      resolve(e.target.files);\n",
              "    });\n",
              "  });\n",
              "\n",
              "  const cancel = document.createElement('button');\n",
              "  inputElement.parentElement.appendChild(cancel);\n",
              "  cancel.textContent = 'Cancel upload';\n",
              "  const cancelPromise = new Promise((resolve) => {\n",
              "    cancel.onclick = () => {\n",
              "      resolve(null);\n",
              "    };\n",
              "  });\n",
              "\n",
              "  // Wait for the user to pick the files.\n",
              "  const files = yield {\n",
              "    promise: Promise.race([pickedPromise, cancelPromise]),\n",
              "    response: {\n",
              "      action: 'starting',\n",
              "    }\n",
              "  };\n",
              "\n",
              "  cancel.remove();\n",
              "\n",
              "  // Disable the input element since further picks are not allowed.\n",
              "  inputElement.disabled = true;\n",
              "\n",
              "  if (!files) {\n",
              "    return {\n",
              "      response: {\n",
              "        action: 'complete',\n",
              "      }\n",
              "    };\n",
              "  }\n",
              "\n",
              "  for (const file of files) {\n",
              "    const li = document.createElement('li');\n",
              "    li.append(span(file.name, {fontWeight: 'bold'}));\n",
              "    li.append(span(\n",
              "        `(${file.type || 'n/a'}) - ${file.size} bytes, ` +\n",
              "        `last modified: ${\n",
              "            file.lastModifiedDate ? file.lastModifiedDate.toLocaleDateString() :\n",
              "                                    'n/a'} - `));\n",
              "    const percent = span('0% done');\n",
              "    li.appendChild(percent);\n",
              "\n",
              "    outputElement.appendChild(li);\n",
              "\n",
              "    const fileDataPromise = new Promise((resolve) => {\n",
              "      const reader = new FileReader();\n",
              "      reader.onload = (e) => {\n",
              "        resolve(e.target.result);\n",
              "      };\n",
              "      reader.readAsArrayBuffer(file);\n",
              "    });\n",
              "    // Wait for the data to be ready.\n",
              "    let fileData = yield {\n",
              "      promise: fileDataPromise,\n",
              "      response: {\n",
              "        action: 'continue',\n",
              "      }\n",
              "    };\n",
              "\n",
              "    // Use a chunked sending to avoid message size limits. See b/62115660.\n",
              "    let position = 0;\n",
              "    do {\n",
              "      const length = Math.min(fileData.byteLength - position, MAX_PAYLOAD_SIZE);\n",
              "      const chunk = new Uint8Array(fileData, position, length);\n",
              "      position += length;\n",
              "\n",
              "      const base64 = btoa(String.fromCharCode.apply(null, chunk));\n",
              "      yield {\n",
              "        response: {\n",
              "          action: 'append',\n",
              "          file: file.name,\n",
              "          data: base64,\n",
              "        },\n",
              "      };\n",
              "\n",
              "      let percentDone = fileData.byteLength === 0 ?\n",
              "          100 :\n",
              "          Math.round((position / fileData.byteLength) * 100);\n",
              "      percent.textContent = `${percentDone}% done`;\n",
              "\n",
              "    } while (position < fileData.byteLength);\n",
              "  }\n",
              "\n",
              "  // All done.\n",
              "  yield {\n",
              "    response: {\n",
              "      action: 'complete',\n",
              "    }\n",
              "  };\n",
              "}\n",
              "\n",
              "scope.google = scope.google || {};\n",
              "scope.google.colab = scope.google.colab || {};\n",
              "scope.google.colab._files = {\n",
              "  _uploadFiles,\n",
              "  _uploadFilesContinue,\n",
              "};\n",
              "})(self);\n",
              "</script> "
            ]
          },
          "metadata": {}
        },
        {
          "output_type": "stream",
          "name": "stdout",
          "text": [
            "Saving archive (10).zip to archive (10).zip\n",
            "Dataset at /content/trashnet\n"
          ]
        }
      ],
      "source": [
        "\n",
        "print(\" upload your dataset .zip file \")\n",
        "uploaded = files.upload()\n",
        "\n",
        "zip_path = list(uploaded.keys())[0]\n",
        "with zipfile.ZipFile(zip_path, 'r') as zf:\n",
        "    zf.extractall(\"/content/trashnet\")\n",
        "\n",
        "print(\"Dataset at /content/trashnet\")\n"
      ]
    },
    {
      "cell_type": "code",
      "execution_count": null,
      "metadata": {
        "id": "gXb6cO9KEOQi"
      },
      "outputs": [],
      "source": [
        "\n",
        "\n",
        "BASE = \"/content/trashnet/dataset-resized\"\n",
        "\n",
        "\n",
        "paths = sum([glob.glob(os.path.join(BASE, c, \"*.jpg\"))\n",
        "             for c in os.listdir(BASE) if os.path.isdir(os.path.join(BASE, c))], [])\n",
        "labels_str = [os.path.basename(os.path.dirname(p)) for p in paths]\n"
      ]
    },
    {
      "cell_type": "code",
      "execution_count": null,
      "metadata": {
        "id": "fW5Jvb2gKIfF"
      },
      "outputs": [],
      "source": [
        "X_tr, X_val, y_tr_str, y_val_str = train_test_split(\n",
        "    paths, labels_str, test_size=0.2, stratify=labels_str, random_state=42\n",
        ")\n"
      ]
    },
    {
      "cell_type": "code",
      "execution_count": null,
      "metadata": {
        "id": "nI3FPpP29iqf"
      },
      "outputs": [],
      "source": [
        "class_names   = set(labels_str)\n",
        "class_to_idx  = {c:i for i,c in enumerate(class_names)}\n",
        "idx_to_class  = {i:c for c,i in class_to_idx.items()}\n",
        "y_tr  = np.array([class_to_idx[s] for s in y_tr_str],  dtype=np.int32)\n",
        "y_val = np.array([class_to_idx[s] for s in y_val_str], dtype=np.int32)"
      ]
    },
    {
      "cell_type": "code",
      "execution_count": null,
      "metadata": {
        "colab": {
          "base_uri": "https://localhost:8080/"
        },
        "id": "nAEjcsHT9z_m",
        "outputId": "bcda8b08-6cee-45f6-8044-7d62044c62dd"
      },
      "outputs": [
        {
          "output_type": "stream",
          "name": "stdout",
          "text": [
            "Classes: ['cardboard', 'glass', 'metal', 'paper', 'plastic', 'trash']\n",
            "Train/Val: 2021 506\n"
          ]
        }
      ],
      "source": [
        "print(\"Classes:\", class_names)\n",
        "print(\"Train/Val:\", len(X_tr), len(X_val))"
      ]
    },
    {
      "cell_type": "code",
      "execution_count": null,
      "metadata": {
        "id": "pdyT5LNKKOQz"
      },
      "outputs": [],
      "source": [
        "IMAGE_SIZE = (200, 200)\n",
        "BATCH_SIZE = 32"
      ]
    },
    {
      "cell_type": "code",
      "execution_count": null,
      "metadata": {
        "id": "kisSUfmUKUnz"
      },
      "outputs": [],
      "source": [
        "def decode_and_resize(path, y):\n",
        "    x = tf.io.decode_image(tf.io.read_file(path), channels=1, expand_animations=False)\n",
        "    x = tf.image.convert_image_dtype(x, tf.float32)*2.0 - 1.0\n",
        "    x = tf.image.resize(x, IMAGE_SIZE, antialias=False)\n",
        "    return x, y"
      ]
    },
    {
      "cell_type": "code",
      "execution_count": null,
      "metadata": {
        "id": "irQQaanLKecJ"
      },
      "outputs": [],
      "source": [
        "augment = keras.Sequential([\n",
        "    layers.RandomFlip(\"horizontal\"),\n",
        "    layers.RandomRotation(0.05),\n",
        "    layers.RandomZoom(0.10),\n",
        "    layers.RandomTranslation(0.05, 0.05),\n",
        "])"
      ]
    },
    {
      "cell_type": "code",
      "execution_count": null,
      "metadata": {
        "id": "zFfZXvQV8wHN"
      },
      "outputs": [],
      "source": [
        "def make_ds(X, y, augment_on=False, shuffle=False):\n",
        "    ds = tf.data.Dataset.from_tensor_slices((X, y))\n",
        "    if shuffle: ds = ds.shuffle(len(X), seed=42, reshuffle_each_iteration=True)\n",
        "    ds = ds.map(decode_and_resize, num_parallel_calls=AUTOTUNE)\n",
        "    if augment_on:\n",
        "        ds = ds.map(lambda x, y: (augment(x, training=True), y), num_parallel_calls=AUTOTUNE)\n",
        "    return ds.batch(BATCH_SIZE).prefetch(AUTOTUNE)"
      ]
    },
    {
      "cell_type": "code",
      "execution_count": null,
      "metadata": {
        "id": "_gJAFgDk82uI"
      },
      "outputs": [],
      "source": [
        "train_ds = make_ds(X_tr,  y_tr,  augment_on=True,  shuffle=True)\n",
        "val_ds   = make_ds(X_val, y_val, augment_on=False, shuffle=False)"
      ]
    },
    {
      "cell_type": "code",
      "execution_count": null,
      "metadata": {
        "colab": {
          "base_uri": "https://localhost:8080/"
        },
        "id": "_2xXZjVK-Afv",
        "outputId": "cd4e755e-90de-47e5-c0f4-530380ec3aec"
      },
      "outputs": [
        {
          "output_type": "execute_result",
          "data": {
            "text/plain": [
              "{0: np.float64(1.0460662525879918),\n",
              " 1: np.float64(0.8399833748960931),\n",
              " 2: np.float64(1.026930894308943),\n",
              " 3: np.float64(0.7091228070175438),\n",
              " 4: np.float64(0.8748917748917749),\n",
              " 5: np.float64(3.062121212121212)}"
            ]
          },
          "metadata": {},
          "execution_count": 13
        }
      ],
      "source": [
        "# weights[i] = N / (K * count_i)\n",
        "counts  = np.bincount(y_tr, minlength=len(class_names))\n",
        "weights = {i: (len(y_tr) / (len(class_names) * counts[i])) for i in range(len(class_names))}\n",
        "weights\n"
      ]
    },
    {
      "cell_type": "code",
      "execution_count": null,
      "metadata": {
        "colab": {
          "base_uri": "https://localhost:8080/"
        },
        "id": "dwDt19xb-EIz",
        "outputId": "ca72ff43-6395-47de-f168-ea704a2167b5"
      },
      "outputs": [
        {
          "output_type": "stream",
          "name": "stdout",
          "text": [
            "Epoch 1/6\n",
            "\u001b[1m64/64\u001b[0m \u001b[32m━━━━━━━━━━━━━━━━━━━━\u001b[0m\u001b[37m\u001b[0m \u001b[1m168s\u001b[0m 3s/step - accuracy: 0.1746 - loss: 1.8096 - val_accuracy: 0.1719 - val_loss: 1.7226 - learning_rate: 0.0010\n",
            "Epoch 2/6\n",
            "\u001b[1m64/64\u001b[0m \u001b[32m━━━━━━━━━━━━━━━━━━━━\u001b[0m\u001b[37m\u001b[0m \u001b[1m186s\u001b[0m 3s/step - accuracy: 0.2897 - loss: 1.6799 - val_accuracy: 0.3953 - val_loss: 1.4969 - learning_rate: 0.0010\n",
            "Epoch 3/6\n",
            "\u001b[1m64/64\u001b[0m \u001b[32m━━━━━━━━━━━━━━━━━━━━\u001b[0m\u001b[37m\u001b[0m \u001b[1m172s\u001b[0m 3s/step - accuracy: 0.3641 - loss: 1.5282 - val_accuracy: 0.3518 - val_loss: 1.4840 - learning_rate: 0.0010\n",
            "Epoch 4/6\n",
            "\u001b[1m64/64\u001b[0m \u001b[32m━━━━━━━━━━━━━━━━━━━━\u001b[0m\u001b[37m\u001b[0m \u001b[1m172s\u001b[0m 3s/step - accuracy: 0.3680 - loss: 1.4775 - val_accuracy: 0.3913 - val_loss: 1.3928 - learning_rate: 0.0010\n",
            "Epoch 5/6\n",
            "\u001b[1m64/64\u001b[0m \u001b[32m━━━━━━━━━━━━━━━━━━━━\u001b[0m\u001b[37m\u001b[0m \u001b[1m164s\u001b[0m 3s/step - accuracy: 0.3737 - loss: 1.4347 - val_accuracy: 0.4269 - val_loss: 1.3850 - learning_rate: 0.0010\n",
            "Epoch 6/6\n",
            "\u001b[1m64/64\u001b[0m \u001b[32m━━━━━━━━━━━━━━━━━━━━\u001b[0m\u001b[37m\u001b[0m \u001b[1m169s\u001b[0m 3s/step - accuracy: 0.4179 - loss: 1.4261 - val_accuracy: 0.4170 - val_loss: 1.3910 - learning_rate: 0.0010\n"
          ]
        }
      ],
      "source": [
        "def build_baseline(num_classes):\n",
        "    inp = layers.Input((*IMAGE_SIZE, 3))\n",
        "    x = layers.Conv2D(32, 3, padding='same', activation='relu')(inp); x = layers.MaxPooling2D()(x)\n",
        "    x = layers.Conv2D(64, 3, padding='same', activation='relu')(x);  x = layers.MaxPooling2D()(x)\n",
        "    x = layers.Conv2D(128,3, padding='same', activation='relu')(x);  x = layers.GlobalAveragePooling2D()(x)\n",
        "    x = layers.Dropout(0.30)(x)\n",
        "    out = layers.Dense(num_classes)(x)\n",
        "    return keras.Model(inp, out, name=\"baseline_cnn\")\n",
        "\n",
        "model = build_baseline(len(class_names))\n",
        "model.compile(optimizer=keras.optimizers.Adam(2),\n",
        "              loss=\"categorical_crossentropy\",\n",
        "              metrics=[\"accuracy\"])\n",
        "\n",
        "cbs = [\n",
        "    keras.callbacks.EarlyStopping(patience=4, restore_best_weights=True, monitor=\"val_accuracy\"),\n",
        "    keras.callbacks.ReduceLROnPlateau(patience=2, factor=0.5, min_lr=1),\n",
        "]\n",
        "\n",
        "history = model.fit(train_ds, validation_data=val_ds, epochs=6,\n",
        "                    class_weight=weights, callbacks=cbs, verbose=1)\n"
      ]
    },
    {
      "cell_type": "code",
      "source": [
        "import numpy as np\n",
        "from sklearn.metrics import classification_report, confusion_matrix\n",
        "import matplotlib.pyplot as plt\n",
        "\n",
        "y_prob = model.predict(val_ds, verbose=0)\n",
        "y_pred = np.argmax(y_prob, axis=1)\n",
        "\n",
        "print(classification_report(y_val, y_pred, target_names=class_names, digits=4))\n",
        "\n",
        "cm = confusion_matrix(y_val, y_pred)\n",
        "plt.imshow(cm, cmap=\"Blues\"); plt.title(\"Confusion Matrix\"); plt.xlabel(\"Pred\"); plt.ylabel(\"True\")\n",
        "plt.xticks(range(len(class_names)), class_names, rotation=45); plt.yticks(range(len(class_names)), class_names)\n",
        "for i in range(cm.shape[0]):\n",
        "    for j in range(cm.shape[1]):\n",
        "        plt.text(j, i, cm[i, j], ha='center', va='center')\n",
        "plt.tight_layout(); plt.show()\n"
      ],
      "metadata": {
        "colab": {
          "base_uri": "https://localhost:8080/",
          "height": 713
        },
        "id": "A1zULcwyNgZa",
        "outputId": "b43dce9e-7e24-4f86-e429-565305ba6ed4"
      },
      "execution_count": null,
      "outputs": [
        {
          "output_type": "stream",
          "name": "stdout",
          "text": [
            "              precision    recall  f1-score   support\n",
            "\n",
            "   cardboard     0.8219    0.7407    0.7792        81\n",
            "       glass     0.6429    0.1800    0.2812       100\n",
            "       metal     0.4848    0.5854    0.5304        82\n",
            "       paper     0.4577    0.5462    0.4981       119\n",
            "     plastic     0.5288    0.5670    0.5473        97\n",
            "       trash     0.2167    0.4815    0.2989        27\n",
            "\n",
            "    accuracy                         0.5119       506\n",
            "   macro avg     0.5255    0.5168    0.4892       506\n",
            "weighted avg     0.5578    0.5119    0.5043       506\n",
            "\n"
          ]
        },
        {
          "output_type": "display_data",
          "data": {
            "text/plain": [
              "<Figure size 640x480 with 1 Axes>"
            ],
            "image/png": "[encoded data removed]"
          },
          "metadata": {}
        }
      ]
    },
    {
      "cell_type": "code",
      "source": [
        "import tensorflow as tf\n",
        "from tensorflow import keras\n",
        "from tensorflow.keras import layers\n",
        "from tensorflow.keras.applications import MobileNetV2\n",
        "\n",
        "IMAGE_SIZE = (224, 224)\n",
        "NUM_CLASSES = len(class_names)\n",
        "\n",
        "# callbacks\n",
        "cbs = [\n",
        "    keras.callbacks.EarlyStopping(monitor=\"val_accuracy\", patience=5, restore_best_weights=True),\n",
        "    keras.callbacks.ReduceLROnPlateau(monitor=\"val_accuracy\", patience=2, factor=0.5, min_lr=1e-6),\n",
        "    keras.callbacks.ModelCheckpoint(\"mobilenetv2_best.keras\", monitor=\"val_accuracy\", save_best_only=True)\n",
        "]\n",
        "\n",
        "#  Phase 1: freeze base, train top ---->\n",
        "inputs = layers.Input(shape=(*IMAGE_SIZE, 3))\n",
        "\n",
        "x = layers.Rescaling(2.0, offset=-1.0)(inputs)  # [0,1] -> [-1,1]\n",
        "\n",
        "base = MobileNetV2(include_top=False, weights=\"imagenet\", input_tensor=x)\n",
        "base.trainable = False\n",
        "\n",
        "y = layers.GlobalAveragePooling2D()(base.output)\n",
        "y = layers.Dropout(0.30)(y)\n",
        "outputs = layers.Dense(NUM_CLASSES, activation=\"softmax\")(y)\n",
        "tl_model = keras.Model(inputs, outputs, name=\"mobilenetv2_tl\")\n",
        "\n",
        "tl_model.compile(\n",
        "    optimizer=keras.optimizers.Adam(learning_rate=3e-4),\n",
        "    loss=\"sparse_categorical_crossentropy\",\n",
        "    metrics=[\"accuracy\"]\n",
        ")\n",
        "\n",
        "print(\"Phase 1: training head only (base frozen)\")\n",
        "history_tl_1 = tl_model.fit(\n",
        "    train_ds,\n",
        "    validation_data=val_ds,\n",
        "    epochs=8,\n",
        "    class_weight=globals().get(\"weights\", None),\n",
        "    callbacks=cbs,\n",
        "    verbose=1\n",
        ")\n",
        "\n"
      ],
      "metadata": {
        "colab": {
          "base_uri": "https://localhost:8080/"
        },
        "id": "g3uIibwoQk1K",
        "outputId": "2757a180-a0d0-4aec-90f3-1ecf67384bf4"
      },
      "execution_count": null,
      "outputs": [
        {
          "output_type": "stream",
          "name": "stderr",
          "text": [
            "/tmp/ipython-input-1475669913.py:21: UserWarning: `input_shape` is undefined or non-square, or `rows` is not in [96, 128, 160, 192, 224]. Weights for input shape (224, 224) will be loaded as the default.\n",
            "  base = MobileNetV2(include_top=False, weights=\"imagenet\", input_tensor=x)\n"
          ]
        },
        {
          "output_type": "stream",
          "name": "stdout",
          "text": [
            "Phase 1: training head only (base frozen)\n",
            "Epoch 1/8\n",
            "\u001b[1m64/64\u001b[0m \u001b[32m━━━━━━━━━━━━━━━━━━━━\u001b[0m\u001b[37m\u001b[0m \u001b[1m92s\u001b[0m 1s/step - accuracy: 0.2202 - loss: 1.9847 - val_accuracy: 0.5099 - val_loss: 1.2750 - learning_rate: 3.0000e-04\n",
            "Epoch 2/8\n",
            "\u001b[1m64/64\u001b[0m \u001b[32m━━━━━━━━━━━━━━━━━━━━\u001b[0m\u001b[37m\u001b[0m \u001b[1m88s\u001b[0m 1s/step - accuracy: 0.4567 - loss: 1.3397 - val_accuracy: 0.6561 - val_loss: 0.9643 - learning_rate: 3.0000e-04\n",
            "Epoch 3/8\n",
            "\u001b[1m64/64\u001b[0m \u001b[32m━━━━━━━━━━━━━━━━━━━━\u001b[0m\u001b[37m\u001b[0m \u001b[1m87s\u001b[0m 1s/step - accuracy: 0.5775 - loss: 1.0880 - val_accuracy: 0.6996 - val_loss: 0.8343 - learning_rate: 3.0000e-04\n",
            "Epoch 4/8\n",
            "\u001b[1m64/64\u001b[0m \u001b[32m━━━━━━━━━━━━━━━━━━━━\u001b[0m\u001b[37m\u001b[0m \u001b[1m85s\u001b[0m 1s/step - accuracy: 0.6448 - loss: 0.9675 - val_accuracy: 0.7530 - val_loss: 0.7395 - learning_rate: 3.0000e-04\n",
            "Epoch 5/8\n",
            "\u001b[1m64/64\u001b[0m \u001b[32m━━━━━━━━━━━━━━━━━━━━\u001b[0m\u001b[37m\u001b[0m \u001b[1m143s\u001b[0m 1s/step - accuracy: 0.6843 - loss: 0.8788 - val_accuracy: 0.7708 - val_loss: 0.6766 - learning_rate: 3.0000e-04\n",
            "Epoch 6/8\n",
            "\u001b[1m64/64\u001b[0m \u001b[32m━━━━━━━━━━━━━━━━━━━━\u001b[0m\u001b[37m\u001b[0m \u001b[1m131s\u001b[0m 1s/step - accuracy: 0.7082 - loss: 0.8186 - val_accuracy: 0.7846 - val_loss: 0.6524 - learning_rate: 3.0000e-04\n",
            "Epoch 7/8\n",
            "\u001b[1m64/64\u001b[0m \u001b[32m━━━━━━━━━━━━━━━━━━━━\u001b[0m\u001b[37m\u001b[0m \u001b[1m91s\u001b[0m 1s/step - accuracy: 0.7444 - loss: 0.7315 - val_accuracy: 0.7905 - val_loss: 0.6240 - learning_rate: 3.0000e-04\n",
            "Epoch 8/8\n",
            "\u001b[1m64/64\u001b[0m \u001b[32m━━━━━━━━━━━━━━━━━━━━\u001b[0m\u001b[37m\u001b[0m \u001b[1m144s\u001b[0m 1s/step - accuracy: 0.7260 - loss: 0.7258 - val_accuracy: 0.7866 - val_loss: 0.6095 - learning_rate: 3.0000e-04\n"
          ]
        }
      ]
    },
    {
      "cell_type": "code",
      "source": [
        "# ----- Phase 2: unfreeze tail, fine-tune -----\n",
        "base.trainable = True\n",
        "# fine-tune last ~40% of layers\n",
        "freeze_until = int(0.6 * len(base.layers))\n",
        "for layer in base.layers[freeze_until:]:\n",
        "    layer.trainable = False\n",
        "\n",
        "tl_model.compile(\n",
        "    optimizer=keras.optimizers.Adam(learning_rate=1e-4),\n",
        "    loss=\"sparse_categorical_crossentropy\",\n",
        "    metrics=[\"accuracy\"]\n",
        ")\n",
        "\n",
        "print(\"Phase 2: fine-tuning last layers\")\n",
        "history_tl_2 = tl_model.fit(\n",
        "    train_ds,\n",
        "    validation_data=val_ds,\n",
        "    epochs=12,\n",
        "    class_weight=globals().get(\"weights\", None),\n",
        "    callbacks=cbs,\n",
        "    verbose=1\n",
        ")\n"
      ],
      "metadata": {
        "colab": {
          "base_uri": "https://localhost:8080/"
        },
        "id": "4PGXmDr_Qsp9",
        "outputId": "e9726096-17c2-4712-fb70-4c79aee0cb77"
      },
      "execution_count": null,
      "outputs": [
        {
          "output_type": "stream",
          "name": "stdout",
          "text": [
            "Phase 2: fine-tuning last layers\n",
            "Epoch 1/12\n",
            "\u001b[1m64/64\u001b[0m \u001b[32m━━━━━━━━━━━━━━━━━━━━\u001b[0m\u001b[37m\u001b[0m \u001b[1m131s\u001b[0m 2s/step - accuracy: 0.6703 - loss: 0.9669 - val_accuracy: 0.8043 - val_loss: 0.5350 - learning_rate: 1.0000e-04\n",
            "Epoch 2/12\n",
            "\u001b[1m64/64\u001b[0m \u001b[32m━━━━━━━━━━━━━━━━━━━━\u001b[0m\u001b[37m\u001b[0m \u001b[1m126s\u001b[0m 2s/step - accuracy: 0.8454 - loss: 0.4210 - val_accuracy: 0.7925 - val_loss: 0.5659 - learning_rate: 1.0000e-04\n",
            "Epoch 3/12\n",
            "\u001b[1m64/64\u001b[0m \u001b[32m━━━━━━━━━━━━━━━━━━━━\u001b[0m\u001b[37m\u001b[0m \u001b[1m126s\u001b[0m 2s/step - accuracy: 0.8972 - loss: 0.3012 - val_accuracy: 0.8024 - val_loss: 0.5573 - learning_rate: 1.0000e-04\n",
            "Epoch 4/12\n",
            "\u001b[1m64/64\u001b[0m \u001b[32m━━━━━━━━━━━━━━━━━━━━\u001b[0m\u001b[37m\u001b[0m \u001b[1m131s\u001b[0m 2s/step - accuracy: 0.9346 - loss: 0.1906 - val_accuracy: 0.8103 - val_loss: 0.5543 - learning_rate: 5.0000e-05\n",
            "Epoch 5/12\n",
            "\u001b[1m64/64\u001b[0m \u001b[32m━━━━━━━━━━━━━━━━━━━━\u001b[0m\u001b[37m\u001b[0m \u001b[1m124s\u001b[0m 2s/step - accuracy: 0.9554 - loss: 0.1464 - val_accuracy: 0.8340 - val_loss: 0.5271 - learning_rate: 5.0000e-05\n",
            "Epoch 6/12\n",
            "\u001b[1m64/64\u001b[0m \u001b[32m━━━━━━━━━━━━━━━━━━━━\u001b[0m\u001b[37m\u001b[0m \u001b[1m124s\u001b[0m 2s/step - accuracy: 0.9548 - loss: 0.1302 - val_accuracy: 0.8399 - val_loss: 0.5214 - learning_rate: 5.0000e-05\n",
            "Epoch 7/12\n",
            "\u001b[1m64/64\u001b[0m \u001b[32m━━━━━━━━━━━━━━━━━━━━\u001b[0m\u001b[37m\u001b[0m \u001b[1m132s\u001b[0m 2s/step - accuracy: 0.9635 - loss: 0.1186 - val_accuracy: 0.8478 - val_loss: 0.4931 - learning_rate: 5.0000e-05\n",
            "Epoch 8/12\n",
            "\u001b[1m64/64\u001b[0m \u001b[32m━━━━━━━━━━━━━━━━━━━━\u001b[0m\u001b[37m\u001b[0m \u001b[1m123s\u001b[0m 2s/step - accuracy: 0.9737 - loss: 0.0854 - val_accuracy: 0.8557 - val_loss: 0.4550 - learning_rate: 5.0000e-05\n",
            "Epoch 9/12\n",
            "\u001b[1m64/64\u001b[0m \u001b[32m━━━━━━━━━━━━━━━━━━━━\u001b[0m\u001b[37m\u001b[0m \u001b[1m124s\u001b[0m 2s/step - accuracy: 0.9755 - loss: 0.0766 - val_accuracy: 0.8617 - val_loss: 0.4749 - learning_rate: 5.0000e-05\n",
            "Epoch 10/12\n",
            "\u001b[1m64/64\u001b[0m \u001b[32m━━━━━━━━━━━━━━━━━━━━\u001b[0m\u001b[37m\u001b[0m \u001b[1m125s\u001b[0m 2s/step - accuracy: 0.9868 - loss: 0.0569 - val_accuracy: 0.8656 - val_loss: 0.4504 - learning_rate: 5.0000e-05\n",
            "Epoch 11/12\n",
            "\u001b[1m64/64\u001b[0m \u001b[32m━━━━━━━━━━━━━━━━━━━━\u001b[0m\u001b[37m\u001b[0m \u001b[1m124s\u001b[0m 2s/step - accuracy: 0.9820 - loss: 0.0703 - val_accuracy: 0.8755 - val_loss: 0.4067 - learning_rate: 5.0000e-05\n",
            "Epoch 12/12\n",
            "\u001b[1m64/64\u001b[0m \u001b[32m━━━━━━━━━━━━━━━━━━━━\u001b[0m\u001b[37m\u001b[0m \u001b[1m149s\u001b[0m 2s/step - accuracy: 0.9891 - loss: 0.0472 - val_accuracy: 0.8696 - val_loss: 0.4169 - learning_rate: 5.0000e-05\n"
          ]
        }
      ]
    },
    {
      "cell_type": "code",
      "source": [
        "import matplotlib.pyplot as plt\n",
        "\n",
        "def merge_hist(*hists):\n",
        "    acc, val_acc, loss, val_loss = [], [], [], []\n",
        "    for h in hists:\n",
        "        if h is None: continue\n",
        "        acc     += h.history.get('accuracy', [])\n",
        "        val_acc += h.history.get('val_accuracy', [])\n",
        "        loss    += h.history.get('loss', [])\n",
        "        val_loss+= h.history.get('val_loss', [])\n",
        "    return acc, val_acc, loss, val_loss\n",
        "\n",
        "h1 = globals().get('history_tl_1')\n",
        "h2 = globals().get('history_tl_2')\n",
        "acc, val_acc, loss, val_loss = merge_hist(h1, h2)\n",
        "\n",
        "plt.figure(figsize=(10,4))\n",
        "plt.subplot(1,2,1); plt.plot(acc, label='train'); plt.plot(val_acc, label='val'); plt.title('Accuracy'); plt.legend()\n",
        "plt.subplot(1,2,2); plt.plot(loss, label='train'); plt.plot(val_loss, label='val'); plt.title('Loss'); plt.legend()\n",
        "plt.tight_layout(); plt.show()\n"
      ],
      "metadata": {
        "colab": {
          "base_uri": "https://localhost:8080/",
          "height": 407
        },
        "id": "wjuaPrDagoxU",
        "outputId": "03b6d023-baf0-45f2-f8f7-8fc583f6fe1e"
      },
      "execution_count": null,
      "outputs": [
        {
          "output_type": "display_data",
          "data": {
            "text/plain": [
              "<Figure size 1000x400 with 2 Axes>"
            ],
            "image/png": "[encoded data removed]"
          },
          "metadata": {}
        }
      ]
    },
    {
      "cell_type": "code",
      "source": [
        "import numpy as np, seaborn as sns\n",
        "from sklearn.metrics import classification_report, confusion_matrix\n",
        "\n",
        "def make_eval_ds():\n",
        "    if 'make_ds' in globals():\n",
        "        return make_ds(val_paths, y_val, augment=False, shuffle=False)\n",
        "    return val_ds\n",
        "\n",
        "eval_ds = make_eval_ds()\n",
        "\n",
        "y_prob = tl_model.predict(eval_ds, verbose=0)\n",
        "y_pred = np.argmax(y_prob, axis=1)\n",
        "y_true = y_val\n",
        "\n",
        "print(classification_report(y_true, y_pred, target_names=class_names, digits=4))\n",
        "\n",
        "cm = confusion_matrix(y_true, y_pred, labels=list(range(len(class_names))))\n",
        "plt.figure(figsize=(6,5))\n",
        "sns.heatmap(cm, annot=True, fmt='d', cmap='Blues',\n",
        "            xticklabels=class_names, yticklabels=class_names)\n",
        "plt.xlabel(\"Predicted\"); plt.ylabel(\"True\"); plt.title(\"Confusion Matrix\")\n",
        "plt.tight_layout(); plt.show()\n",
        "\n",
        "cm_norm = cm.astype(float) / (cm.sum(axis=1, keepdims=True) + 1e-9)\n",
        "plt.figure(figsize=(6,5))\n",
        "sns.heatmap(cm_norm, annot=True, fmt='.2f', cmap='Greens',\n",
        "            xticklabels=class_names, yticklabels=class_names, vmin=0, vmax=1)\n",
        "plt.xlabel(\"Predicted\"); plt.ylabel(\"True\"); plt.title(\"Confusion Matrix (Normalized)\")\n",
        "plt.tight_layout(); plt.show()\n"
      ],
      "metadata": {
        "id": "1oONco54g8yV",
        "outputId": "47f00a48-6b07-4c03-dad3-08c2d77bea4d",
        "colab": {
          "base_uri": "https://localhost:8080/",
          "height": 332
        },
        "collapsed": true
      },
      "execution_count": null,
      "outputs": [
        {
          "output_type": "error",
          "ename": "NameError",
          "evalue": "name 'val_paths' is not defined",
          "traceback": [
            "\u001b[0;31m---------------------------------------------------------------------------\u001b[0m",
            "\u001b[0;31mNameError\u001b[0m                                 Traceback (most recent call last)",
            "\u001b[0;32m/tmp/ipython-input-2969388500.py\u001b[0m in \u001b[0;36m<cell line: 0>\u001b[0;34m()\u001b[0m\n\u001b[1;32m      8\u001b[0m     \u001b[0;32mreturn\u001b[0m \u001b[0mval_ds\u001b[0m  \u001b[0;31m# fallback\u001b[0m\u001b[0;34m\u001b[0m\u001b[0;34m\u001b[0m\u001b[0m\n\u001b[1;32m      9\u001b[0m \u001b[0;34m\u001b[0m\u001b[0m\n\u001b[0;32m---> 10\u001b[0;31m \u001b[0meval_ds\u001b[0m \u001b[0;34m=\u001b[0m \u001b[0mmake_eval_ds\u001b[0m\u001b[0;34m(\u001b[0m\u001b[0;34m)\u001b[0m\u001b[0;34m\u001b[0m\u001b[0;34m\u001b[0m\u001b[0m\n\u001b[0m\u001b[1;32m     11\u001b[0m \u001b[0;34m\u001b[0m\u001b[0m\n\u001b[1;32m     12\u001b[0m \u001b[0my_prob\u001b[0m \u001b[0;34m=\u001b[0m \u001b[0mtl_model\u001b[0m\u001b[0;34m.\u001b[0m\u001b[0mpredict\u001b[0m\u001b[0;34m(\u001b[0m\u001b[0meval_ds\u001b[0m\u001b[0;34m,\u001b[0m \u001b[0mverbose\u001b[0m\u001b[0;34m=\u001b[0m\u001b[0;36m0\u001b[0m\u001b[0;34m)\u001b[0m\u001b[0;34m\u001b[0m\u001b[0;34m\u001b[0m\u001b[0m\n",
            "\u001b[0;32m/tmp/ipython-input-2969388500.py\u001b[0m in \u001b[0;36mmake_eval_ds\u001b[0;34m()\u001b[0m\n\u001b[1;32m      5\u001b[0m \u001b[0;32mdef\u001b[0m \u001b[0mmake_eval_ds\u001b[0m\u001b[0;34m(\u001b[0m\u001b[0;34m)\u001b[0m\u001b[0;34m:\u001b[0m\u001b[0;34m\u001b[0m\u001b[0;34m\u001b[0m\u001b[0m\n\u001b[1;32m      6\u001b[0m     \u001b[0;32mif\u001b[0m \u001b[0;34m'make_ds'\u001b[0m \u001b[0;32min\u001b[0m \u001b[0mglobals\u001b[0m\u001b[0;34m(\u001b[0m\u001b[0;34m)\u001b[0m\u001b[0;34m:\u001b[0m\u001b[0;34m\u001b[0m\u001b[0;34m\u001b[0m\u001b[0m\n\u001b[0;32m----> 7\u001b[0;31m         \u001b[0;32mreturn\u001b[0m \u001b[0mmake_ds\u001b[0m\u001b[0;34m(\u001b[0m\u001b[0mval_paths\u001b[0m\u001b[0;34m,\u001b[0m \u001b[0my_val\u001b[0m\u001b[0;34m,\u001b[0m \u001b[0maugment\u001b[0m\u001b[0;34m=\u001b[0m\u001b[0;32mFalse\u001b[0m\u001b[0;34m,\u001b[0m \u001b[0mshuffle\u001b[0m\u001b[0;34m=\u001b[0m\u001b[0;32mFalse\u001b[0m\u001b[0;34m)\u001b[0m\u001b[0;34m\u001b[0m\u001b[0;34m\u001b[0m\u001b[0m\n\u001b[0m\u001b[1;32m      8\u001b[0m     \u001b[0;32mreturn\u001b[0m \u001b[0mval_ds\u001b[0m  \u001b[0;31m# fallback\u001b[0m\u001b[0;34m\u001b[0m\u001b[0;34m\u001b[0m\u001b[0m\n\u001b[1;32m      9\u001b[0m \u001b[0;34m\u001b[0m\u001b[0m\n",
            "\u001b[0;31mNameError\u001b[0m: name 'val_paths' is not defined"
          ]
        }
      ]
    }
  ],
  "metadata": {
    "colab": {
      "provenance": [],
      "authorship_tag": "ABX9TyOQfnqnbtwR5+aTD34ogEsY"
    },
    "kernelspec": {
      "display_name": "Python 3",
      "name": "python3"
    },
    "language_info": {
      "name": "python"
    }
  },
  "nbformat": 4,
  "nbformat_minor": 0
}