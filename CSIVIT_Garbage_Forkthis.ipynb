{
  "cells": [
    {
      "cell_type": "markdown",
      "metadata": {
        "id": "view-in-github",
        "colab_type": "text"
      },
      "source": [
        "<a href=\"https://colab.research.google.com/github/Diptesh2006/smart-waste-classifier/blob/main/CSIVIT_Garbage_Forkthis.ipynb\" target=\"_parent\"><img src=\"https://colab.research.google.com/assets/colab-badge.svg\" alt=\"Open In Colab\"/></a>"
      ]
    },
    {
      "cell_type": "code",
      "execution_count": null,
      "metadata": {
        "id": "dwpAk5eO_2L6"
      },
      "outputs": [],
      "source": [
        "import os, glob, shutil, zipfile, random, math\n",
        "from collections import Counter\n",
        "\n",
        "import numpy as np\n",
        "import matplotlib.pyplot as plt\n",
        "import seaborn as sns\n",
        "\n",
        "import tensorflow as tf\n",
        "from tensorflow import keras\n",
        "from tensorflow.keras import layers\n",
        "\n",
        "from sklearn.model_selection import train_test_split\n",
        "from sklearn.metrics import classification_report, confusion_matrix\n",
        "\n",
        "from google.colab import files\n"
      ]
    },
    {
      "cell_type": "code",
      "execution_count": null,
      "metadata": {
        "colab": {
          "base_uri": "https://localhost:8080/",
          "height": 108
        },
        "id": "rztUkOnyBD7A",
        "outputId": "ca6ec1bb-d89c-4208-9c1c-b3fe481f0085"
      },
      "outputs": [
        {
          "name": "stdout",
          "output_type": "stream",
          "text": [
            " upload your dataset .zip file \n"
          ]
        },
        {
          "data": {
            "text/html": [
              "\n",
              "     <input type=\"file\" id=\"files-2c7fbca4-fa3e-4f81-b79d-9fe2194ef53d\" name=\"files[]\" multiple disabled\n",
              "        style=\"border:none\" />\n",
              "     <output id=\"result-2c7fbca4-fa3e-4f81-b79d-9fe2194ef53d\">\n",
              "      Upload widget is only available when the cell has been executed in the\n",
              "      current browser session. Please rerun this cell to enable.\n",
              "      </output>\n",
              "      <script>// Copyright 2017 Google LLC\n",
              "//\n",
              "// Licensed under the Apache License, Version 2.0 (the \"License\");\n",
              "// you may not use this file except in compliance with the License.\n",
              "// You may obtain a copy of the License at\n",
              "//\n",
              "//      http://www.apache.org/licenses/LICENSE-2.0\n",
              "//\n",
              "// Unless required by applicable law or agreed to in writing, software\n",
              "// distributed under the License is distributed on an \"AS IS\" BASIS,\n",
              "// WITHOUT WARRANTIES OR CONDITIONS OF ANY KIND, either express or implied.\n",
              "// See the License for the specific language governing permissions and\n",
              "// limitations under the License.\n",
              "\n",
              "/**\n",
              " * @fileoverview Helpers for google.colab Python module.\n",
              " */\n",
              "(function(scope) {\n",
              "function span(text, styleAttributes = {}) {\n",
              "  const element = document.createElement('span');\n",
              "  element.textContent = text;\n",
              "  for (const key of Object.keys(styleAttributes)) {\n",
              "    element.style[key] = styleAttributes[key];\n",
              "  }\n",
              "  return element;\n",
              "}\n",
              "\n",
              "// Max number of bytes which will be uploaded at a time.\n",
              "const MAX_PAYLOAD_SIZE = 100 * 1024;\n",
              "\n",
              "function _uploadFiles(inputId, outputId) {\n",
              "  const steps = uploadFilesStep(inputId, outputId);\n",
              "  const outputElement = document.getElementById(outputId);\n",
              "  // Cache steps on the outputElement to make it available for the next call\n",
              "  // to uploadFilesContinue from Python.\n",
              "  outputElement.steps = steps;\n",
              "\n",
              "  return _uploadFilesContinue(outputId);\n",
              "}\n",
              "\n",
              "// This is roughly an async generator (not supported in the browser yet),\n",
              "// where there are multiple asynchronous steps and the Python side is going\n",
              "// to poll for completion of each step.\n",
              "// This uses a Promise to block the python side on completion of each step,\n",
              "// then passes the result of the previous step as the input to the next step.\n",
              "function _uploadFilesContinue(outputId) {\n",
              "  const outputElement = document.getElementById(outputId);\n",
              "  const steps = outputElement.steps;\n",
              "\n",
              "  const next = steps.next(outputElement.lastPromiseValue);\n",
              "  return Promise.resolve(next.value.promise).then((value) => {\n",
              "    // Cache the last promise value to make it available to the next\n",
              "    // step of the generator.\n",
              "    outputElement.lastPromiseValue = value;\n",
              "    return next.value.response;\n",
              "  });\n",
              "}\n",
              "\n",
              "/**\n",
              " * Generator function which is called between each async step of the upload\n",
              " * process.\n",
              " * @param {string} inputId Element ID of the input file picker element.\n",
              " * @param {string} outputId Element ID of the output display.\n",
              " * @return {!Iterable<!Object>} Iterable of next steps.\n",
              " */\n",
              "function* uploadFilesStep(inputId, outputId) {\n",
              "  const inputElement = document.getElementById(inputId);\n",
              "  inputElement.disabled = false;\n",
              "\n",
              "  const outputElement = document.getElementById(outputId);\n",
              "  outputElement.innerHTML = '';\n",
              "\n",
              "  const pickedPromise = new Promise((resolve) => {\n",
              "    inputElement.addEventListener('change', (e) => {\n",
              "      resolve(e.target.files);\n",
              "    });\n",
              "  });\n",
              "\n",
              "  const cancel = document.createElement('button');\n",
              "  inputElement.parentElement.appendChild(cancel);\n",
              "  cancel.textContent = 'Cancel upload';\n",
              "  const cancelPromise = new Promise((resolve) => {\n",
              "    cancel.onclick = () => {\n",
              "      resolve(null);\n",
              "    };\n",
              "  });\n",
              "\n",
              "  // Wait for the user to pick the files.\n",
              "  const files = yield {\n",
              "    promise: Promise.race([pickedPromise, cancelPromise]),\n",
              "    response: {\n",
              "      action: 'starting',\n",
              "    }\n",
              "  };\n",
              "\n",
              "  cancel.remove();\n",
              "\n",
              "  // Disable the input element since further picks are not allowed.\n",
              "  inputElement.disabled = true;\n",
              "\n",
              "  if (!files) {\n",
              "    return {\n",
              "      response: {\n",
              "        action: 'complete',\n",
              "      }\n",
              "    };\n",
              "  }\n",
              "\n",
              "  for (const file of files) {\n",
              "    const li = document.createElement('li');\n",
              "    li.append(span(file.name, {fontWeight: 'bold'}));\n",
              "    li.append(span(\n",
              "        `(${file.type || 'n/a'}) - ${file.size} bytes, ` +\n",
              "        `last modified: ${\n",
              "            file.lastModifiedDate ? file.lastModifiedDate.toLocaleDateString() :\n",
              "                                    'n/a'} - `));\n",
              "    const percent = span('0% done');\n",
              "    li.appendChild(percent);\n",
              "\n",
              "    outputElement.appendChild(li);\n",
              "\n",
              "    const fileDataPromise = new Promise((resolve) => {\n",
              "      const reader = new FileReader();\n",
              "      reader.onload = (e) => {\n",
              "        resolve(e.target.result);\n",
              "      };\n",
              "      reader.readAsArrayBuffer(file);\n",
              "    });\n",
              "    // Wait for the data to be ready.\n",
              "    let fileData = yield {\n",
              "      promise: fileDataPromise,\n",
              "      response: {\n",
              "        action: 'continue',\n",
              "      }\n",
              "    };\n",
              "\n",
              "    // Use a chunked sending to avoid message size limits. See b/62115660.\n",
              "    let position = 0;\n",
              "    do {\n",
              "      const length = Math.min(fileData.byteLength - position, MAX_PAYLOAD_SIZE);\n",
              "      const chunk = new Uint8Array(fileData, position, length);\n",
              "      position += length;\n",
              "\n",
              "      const base64 = btoa(String.fromCharCode.apply(null, chunk));\n",
              "      yield {\n",
              "        response: {\n",
              "          action: 'append',\n",
              "          file: file.name,\n",
              "          data: base64,\n",
              "        },\n",
              "      };\n",
              "\n",
              "      let percentDone = fileData.byteLength === 0 ?\n",
              "          100 :\n",
              "          Math.round((position / fileData.byteLength) * 100);\n",
              "      percent.textContent = `${percentDone}% done`;\n",
              "\n",
              "    } while (position < fileData.byteLength);\n",
              "  }\n",
              "\n",
              "  // All done.\n",
              "  yield {\n",
              "    response: {\n",
              "      action: 'complete',\n",
              "    }\n",
              "  };\n",
              "}\n",
              "\n",
              "scope.google = scope.google || {};\n",
              "scope.google.colab = scope.google.colab || {};\n",
              "scope.google.colab._files = {\n",
              "  _uploadFiles,\n",
              "  _uploadFilesContinue,\n",
              "};\n",
              "})(self);\n",
              "</script> "
            ],
            "text/plain": [
              "<IPython.core.display.HTML object>"
            ]
          },
          "metadata": {},
          "output_type": "display_data"
        },
        {
          "name": "stdout",
          "output_type": "stream",
          "text": [
            "Saving archive (10).zip to archive (10) (1).zip\n",
            "Dataset at /content/trashnet\n"
          ]
        }
      ],
      "source": [
        "\n",
        "print(\" upload your dataset .zip file \")\n",
        "uploaded = files.upload()\n",
        "\n",
        "zip_path = list(uploaded.keys())[0]\n",
        "with zipfile.ZipFile(zip_path, 'r') as zf:\n",
        "    zf.extractall(\"/content/trashnet\")\n",
        "\n",
        "print(\"Dataset at /content/trashnet\")\n"
      ]
    },
    {
      "cell_type": "code",
      "execution_count": null,
      "metadata": {
        "id": "gXb6cO9KEOQi"
      },
      "outputs": [],
      "source": [
        "\n",
        "\n",
        "BASE = \"/content/trashnet/dataset-resized\"\n",
        "\n",
        "\n",
        "paths = sum([glob.glob(os.path.join(BASE, c, \"*.jpg\"))\n",
        "             for c in os.listdir(BASE) if os.path.isdir(os.path.join(BASE, c))], [])\n",
        "labels_str = [os.path.basename(os.path.dirname(p)) for p in paths]\n"
      ]
    },
    {
      "cell_type": "code",
      "execution_count": null,
      "metadata": {
        "id": "fW5Jvb2gKIfF"
      },
      "outputs": [],
      "source": [
        "X_tr, X_val, y_tr_str, y_val_str = train_test_split(\n",
        "    paths, labels_str, test_size=0.2, stratify=labels_str, random_state=42\n",
        ")\n"
      ]
    },
    {
      "cell_type": "code",
      "execution_count": null,
      "metadata": {
        "id": "nI3FPpP29iqf"
      },
      "outputs": [],
      "source": [
        "class_names   = sorted(set(labels_str))\n",
        "class_to_idx  = {c:i for i,c in enumerate(class_names)}\n",
        "idx_to_class  = {i:c for c,i in class_to_idx.items()}\n",
        "y_tr  = np.array([class_to_idx[s] for s in y_tr_str],  dtype=np.int32)\n",
        "y_val = np.array([class_to_idx[s] for s in y_val_str], dtype=np.int32)"
      ]
    },
    {
      "cell_type": "code",
      "execution_count": null,
      "metadata": {
        "colab": {
          "base_uri": "https://localhost:8080/"
        },
        "id": "nAEjcsHT9z_m",
        "outputId": "844b757d-5e46-4953-f7cd-6015cd6d503e"
      },
      "outputs": [
        {
          "name": "stdout",
          "output_type": "stream",
          "text": [
            "Classes: ['cardboard', 'glass', 'metal', 'paper', 'plastic', 'trash']\n",
            "Train/Val: 2021 506\n"
          ]
        }
      ],
      "source": [
        "print(\"Classes:\", class_names)\n",
        "print(\"Train/Val:\", len(X_tr), len(X_val))"
      ]
    },
    {
      "cell_type": "code",
      "execution_count": null,
      "metadata": {
        "id": "pdyT5LNKKOQz"
      },
      "outputs": [],
      "source": [
        "IMAGE_SIZE = (224, 224)\n",
        "BATCH_SIZE = 32"
      ]
    },
    {
      "cell_type": "code",
      "execution_count": null,
      "metadata": {
        "id": "kisSUfmUKUnz"
      },
      "outputs": [],
      "source": [
        "def decode_and_resize(path, y):\n",
        "    x = tf.io.decode_image(tf.io.read_file(path), channels=3, expand_animations=False)\n",
        "    x = tf.image.convert_image_dtype(x, tf.float32)         # [0,1]\n",
        "    x = tf.image.resize(x, IMAGE_SIZE, antialias=True)\n",
        "    return x, y"
      ]
    },
    {
      "cell_type": "code",
      "execution_count": null,
      "metadata": {
        "id": "irQQaanLKecJ"
      },
      "outputs": [],
      "source": [
        "augment = keras.Sequential([\n",
        "    layers.RandomFlip(\"horizontal\"),\n",
        "    layers.RandomRotation(0.05),\n",
        "    layers.RandomZoom(0.10),\n",
        "    layers.RandomTranslation(0.05, 0.05),\n",
        "])"
      ]
    },
    {
      "cell_type": "code",
      "execution_count": null,
      "metadata": {
        "id": "KFqnGB9-8u_r"
      },
      "outputs": [],
      "source": [
        "AUTOTUNE   = tf.data.AUTOTUNE"
      ]
    },
    {
      "cell_type": "code",
      "execution_count": null,
      "metadata": {
        "id": "zFfZXvQV8wHN"
      },
      "outputs": [],
      "source": [
        "def make_ds(X, y, augment_on=False, shuffle=False):\n",
        "    ds = tf.data.Dataset.from_tensor_slices((X, y))\n",
        "    if shuffle: ds = ds.shuffle(len(X), seed=42, reshuffle_each_iteration=True)\n",
        "    ds = ds.map(decode_and_resize, num_parallel_calls=AUTOTUNE)\n",
        "    if augment_on:\n",
        "        ds = ds.map(lambda x, y: (augment(x, training=True), y), num_parallel_calls=AUTOTUNE)\n",
        "    return ds.batch(BATCH_SIZE).prefetch(AUTOTUNE)"
      ]
    },
    {
      "cell_type": "code",
      "execution_count": null,
      "metadata": {
        "id": "_gJAFgDk82uI"
      },
      "outputs": [],
      "source": [
        "train_ds = make_ds(X_tr,  y_tr,  augment_on=True,  shuffle=True)\n",
        "val_ds   = make_ds(X_val, y_val, augment_on=False, shuffle=False)"
      ]
    },
    {
      "cell_type": "code",
      "execution_count": null,
      "metadata": {
        "colab": {
          "base_uri": "https://localhost:8080/"
        },
        "id": "_2xXZjVK-Afv",
        "outputId": "0508b934-ddae-4fd7-8317-af0c8ddca27a"
      },
      "outputs": [
        {
          "data": {
            "text/plain": [
              "{0: np.float64(1.0460662525879918),\n",
              " 1: np.float64(0.8399833748960931),\n",
              " 2: np.float64(1.026930894308943),\n",
              " 3: np.float64(0.7091228070175438),\n",
              " 4: np.float64(0.8748917748917749),\n",
              " 5: np.float64(3.062121212121212)}"
            ]
          },
          "execution_count": 13,
          "metadata": {},
          "output_type": "execute_result"
        }
      ],
      "source": [
        "# weights[i] = N / (K * count_i)\n",
        "counts  = np.bincount(y_tr, minlength=len(class_names))\n",
        "weights = {i: (len(y_tr) / (len(class_names) * counts[i])) for i in range(len(class_names))}\n",
        "weights\n"
      ]
    },
    {
      "cell_type": "code",
      "execution_count": null,
      "metadata": {
        "colab": {
          "background_save": true,
          "base_uri": "https://localhost:8080/"
        },
        "id": "dwDt19xb-EIz",
        "outputId": "d7d875bf-e822-4295-bde0-ffef96432309"
      },
      "outputs": [
        {
          "name": "stdout",
          "output_type": "stream",
          "text": [
            "Epoch 1/12\n",
            "\u001b[1m64/64\u001b[0m \u001b[32m━━━━━━━━━━━━━━━━━━━━\u001b[0m\u001b[37m\u001b[0m \u001b[1m281s\u001b[0m 4s/step - accuracy: 0.1902 - loss: 1.8080 - val_accuracy: 0.3498 - val_loss: 1.5729 - learning_rate: 0.0010\n",
            "Epoch 2/12\n",
            "\u001b[1m64/64\u001b[0m \u001b[32m━━━━━━━━━━━━━━━━━━━━\u001b[0m\u001b[37m\u001b[0m \u001b[1m284s\u001b[0m 4s/step - accuracy: 0.3154 - loss: 1.5893 - val_accuracy: 0.2806 - val_loss: 1.6405 - learning_rate: 0.0010\n",
            "Epoch 3/12\n",
            "\u001b[1m64/64\u001b[0m \u001b[32m━━━━━━━━━━━━━━━━━━━━\u001b[0m\u001b[37m\u001b[0m \u001b[1m317s\u001b[0m 4s/step - accuracy: 0.3184 - loss: 1.5880 - val_accuracy: 0.3458 - val_loss: 1.5322 - learning_rate: 0.0010\n",
            "Epoch 4/12\n",
            "\u001b[1m64/64\u001b[0m \u001b[32m━━━━━━━━━━━━━━━━━━━━\u001b[0m\u001b[37m\u001b[0m \u001b[1m327s\u001b[0m 4s/step - accuracy: 0.3171 - loss: 1.5711 - val_accuracy: 0.3043 - val_loss: 1.6580 - learning_rate: 0.0010\n",
            "Epoch 5/12\n",
            "\u001b[1m64/64\u001b[0m \u001b[32m━━━━━━━━━━━━━━━━━━━━\u001b[0m\u001b[37m\u001b[0m \u001b[1m313s\u001b[0m 4s/step - accuracy: 0.3334 - loss: 1.5362 - val_accuracy: 0.3953 - val_loss: 1.4752 - learning_rate: 0.0010\n",
            "Epoch 6/12\n",
            "\u001b[1m64/64\u001b[0m \u001b[32m━━━━━━━━━━━━━━━━━━━━\u001b[0m\u001b[37m\u001b[0m \u001b[1m274s\u001b[0m 4s/step - accuracy: 0.3646 - loss: 1.4932 - val_accuracy: 0.4209 - val_loss: 1.3980 - learning_rate: 0.0010\n",
            "Epoch 7/12\n",
            "\u001b[1m64/64\u001b[0m \u001b[32m━━━━━━━━━━━━━━━━━━━━\u001b[0m\u001b[37m\u001b[0m \u001b[1m275s\u001b[0m 4s/step - accuracy: 0.4174 - loss: 1.3960 - val_accuracy: 0.4526 - val_loss: 1.3478 - learning_rate: 0.0010\n",
            "Epoch 8/12\n",
            "\u001b[1m64/64\u001b[0m \u001b[32m━━━━━━━━━━━━━━━━━━━━\u001b[0m\u001b[37m\u001b[0m \u001b[1m323s\u001b[0m 4s/step - accuracy: 0.4259 - loss: 1.4586 - val_accuracy: 0.4723 - val_loss: 1.3506 - learning_rate: 0.0010\n",
            "Epoch 9/12\n",
            "\u001b[1m64/64\u001b[0m \u001b[32m━━━━━━━━━━━━━━━━━━━━\u001b[0m\u001b[37m\u001b[0m \u001b[1m322s\u001b[0m 4s/step - accuracy: 0.4758 - loss: 1.3332 - val_accuracy: 0.5079 - val_loss: 1.3137 - learning_rate: 0.0010\n",
            "Epoch 10/12\n",
            "\u001b[1m64/64\u001b[0m \u001b[32m━━━━━━━━━━━━━━━━━━━━\u001b[0m\u001b[37m\u001b[0m \u001b[1m274s\u001b[0m 4s/step - accuracy: 0.4755 - loss: 1.3506 - val_accuracy: 0.4842 - val_loss: 1.2662 - learning_rate: 0.0010\n",
            "Epoch 11/12\n",
            "\u001b[1m64/64\u001b[0m \u001b[32m━━━━━━━━━━━━━━━━━━━━\u001b[0m\u001b[37m\u001b[0m \u001b[1m325s\u001b[0m 4s/step - accuracy: 0.4434 - loss: 1.3608 - val_accuracy: 0.4980 - val_loss: 1.3292 - learning_rate: 0.0010\n",
            "Epoch 12/12\n",
            "\u001b[1m64/64\u001b[0m \u001b[32m━━━━━━━━━━━━━━━━━━━━\u001b[0m\u001b[37m\u001b[0m \u001b[1m323s\u001b[0m 4s/step - accuracy: 0.4677 - loss: 1.3043 - val_accuracy: 0.3775 - val_loss: 1.3898 - learning_rate: 0.0010\n"
          ]
        }
      ],
      "source": [
        "def build_baseline(num_classes):\n",
        "    inp = layers.Input((*IMAGE_SIZE, 3))\n",
        "    x = layers.Conv2D(32, 3, padding='same', activation='relu')(inp); x = layers.MaxPooling2D()(x)\n",
        "    x = layers.Conv2D(64, 3, padding='same', activation='relu')(x);  x = layers.MaxPooling2D()(x)\n",
        "    x = layers.Conv2D(128,3, padding='same', activation='relu')(x);  x = layers.GlobalAveragePooling2D()(x)\n",
        "    x = layers.Dropout(0.30)(x)\n",
        "    out = layers.Dense(num_classes, activation='softmax')(x)\n",
        "    return keras.Model(inp, out, name=\"baseline_cnn\")\n",
        "\n",
        "model = build_baseline(len(class_names))\n",
        "model.compile(optimizer=keras.optimizers.Adam(1e-3),\n",
        "              loss=\"sparse_categorical_crossentropy\",\n",
        "              metrics=[\"accuracy\"])\n",
        "\n",
        "cbs = [\n",
        "    keras.callbacks.EarlyStopping(patience=4, restore_best_weights=True, monitor=\"val_accuracy\"),\n",
        "    keras.callbacks.ReduceLROnPlateau(patience=2, factor=0.5, min_lr=1e-6),\n",
        "]\n",
        "\n",
        "history = model.fit(train_ds, validation_data=val_ds, epochs=12,\n",
        "                    class_weight=weights, callbacks=cbs, verbose=1)\n"
      ]
    }
  ],
  "metadata": {
    "colab": {
      "provenance": [],
      "authorship_tag": "ABX9TyMvBCc4wXRjeBIipEWYLzB1",
      "include_colab_link": true
    },
    "kernelspec": {
      "display_name": "Python 3",
      "name": "python3"
    },
    "language_info": {
      "name": "python"
    }
  },
  "nbformat": 4,
  "nbformat_minor": 0
}